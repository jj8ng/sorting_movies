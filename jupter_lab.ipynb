{
 "cells": [
  {
   "cell_type": "code",
   "execution_count": null,
   "metadata": {},
   "outputs": [],
   "source": [
    "from tkinter import *\n",
    "import main\n",
    "\n",
    "win = Tk()\n",
    "win.geometry(\"700x500\")\n",
    "win.title(\"영화 추천 시스템\")\n",
    "\n",
    "label1 = Label(win, text=\"즐겨보던 영화를 여기에 입력해주세요.\", padx=15, pady=7)\n",
    "label1.pack(padx=15, pady=15)\n",
    "\n",
    "ent = Entry(win, width=800)\n",
    "ent.pack(padx=15, pady=8)\n",
    "\n",
    "text = Text(win, width=680)"
   ]
  },
  {
   "cell_type": "code",
   "execution_count": null,
   "metadata": {},
   "outputs": [],
   "source": [
    "def get_movies():\n",
    "    movies = ent.get()\n",
    "    movie_list2 = []\n",
    "    movie_list1 = movies.split(',')\n",
    "    for movie in movie_list1:\n",
    "        movie = movie.strip()\n",
    "        movie_list2.append(movie)\n",
    "\n",
    "    result = main.main(movie_list2)\n",
    "\n",
    "# Clear previous text\n",
    "    text.delete(1.0, END)\n",
    "    text.insert(END, result)\n"
   ]
  },
  {
   "cell_type": "code",
   "execution_count": null,
   "metadata": {},
   "outputs": [],
   "source": [
    "btn = Button(win, text=\"시작\", height=2, width=12, command=get_movies)\n",
    "btn.pack()\n",
    "\n",
    "text.pack(padx=15, pady=7)\n",
    "\n",
    "win.mainloop()"
   ]
  }
 ],
 "metadata": {
  "language_info": {
   "name": "python"
  }
 },
 "nbformat": 4,
 "nbformat_minor": 2
}
